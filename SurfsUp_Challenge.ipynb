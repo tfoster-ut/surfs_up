{
 "cells": [
  {
   "cell_type": "code",
   "execution_count": 1,
   "metadata": {},
   "outputs": [],
   "source": [
    "# Dependencies\n",
    "import numpy as np\n",
    "\n",
    "import pandas as pd\n",
    "import datetime as dt\n",
    "\n",
    "# Python SQL toolkit and Object Relational Mapper\n",
    "import sqlalchemy\n",
    "from sqlalchemy.ext.automap import automap_base\n",
    "from sqlalchemy.orm import Session\n",
    "from sqlalchemy import create_engine, func"
   ]
  },
  {
   "cell_type": "code",
   "execution_count": 2,
   "metadata": {},
   "outputs": [],
   "source": [
    "engine = create_engine(\"sqlite:///hawaii.sqlite\")\n",
    "\n",
    "# reflect an existing database into a new model\n",
    "Base = automap_base()\n",
    "# reflect the tables\n",
    "Base.prepare(engine, reflect=True)\n",
    "\n",
    "# Save references to each table\n",
    "Measurement = Base.classes.measurement\n",
    "Station = Base.classes.station"
   ]
  },
  {
   "cell_type": "code",
   "execution_count": 3,
   "metadata": {},
   "outputs": [],
   "source": [
    "# Create our session (link) from Python to the DB\n",
    "session = Session(engine)\n",
    "\n"
   ]
  },
  {
   "cell_type": "markdown",
   "metadata": {},
   "source": [
    "## D1: Determine the Summary Statistics for June"
   ]
  },
  {
   "cell_type": "code",
   "execution_count": 4,
   "metadata": {},
   "outputs": [
    {
     "name": "stdout",
     "output_type": "stream",
     "text": [
      "[('2017-06-01', 79.0), ('2017-06-02', 79.0), ('2017-06-03', 79.0), ('2017-06-04', 79.0), ('2017-06-05', 80.0), ('2017-06-06', 79.0), ('2017-06-07', 79.0), ('2017-06-08', 80.0), ('2017-06-09', 80.0), ('2017-06-10', 77.0), ('2017-06-11', 79.0), ('2017-06-12', 83.0), ('2017-06-13', 80.0), ('2017-06-14', 80.0), ('2017-06-15', 78.0), ('2017-06-16', 79.0), ('2017-06-17', 80.0), ('2017-06-18', 77.0), ('2017-06-19', 80.0), ('2017-06-20', 78.0), ('2017-06-21', 79.0), ('2017-06-22', 80.0), ('2017-06-23', 78.0), ('2017-06-24', 80.0), ('2017-06-25', 80.0), ('2017-06-26', 81.0), ('2017-06-27', 80.0), ('2017-06-28', 79.0), ('2017-06-29', 79.0), ('2017-06-30', 75.0), ('2017-06-01', 76.0), ('2017-06-02', 76.0), ('2017-06-03', 76.0), ('2017-06-04', 78.0), ('2017-06-05', 76.0), ('2017-06-06', 75.0), ('2017-06-07', 75.0), ('2017-06-08', 76.0), ('2017-06-09', 78.0), ('2017-06-10', 75.0), ('2017-06-11', 73.0), ('2017-06-12', 76.0), ('2017-06-13', 76.0), ('2017-06-14', 76.0), ('2017-06-15', 77.0), ('2017-06-16', 76.0), ('2017-06-17', 77.0), ('2017-06-18', 72.0), ('2017-06-19', 77.0), ('2017-06-20', 75.0), ('2017-06-21', 82.0), ('2017-06-22', 77.0), ('2017-06-23', 76.0), ('2017-06-24', 74.0), ('2017-06-25', 73.0), ('2017-06-26', 77.0), ('2017-06-27', 77.0), ('2017-06-28', 77.0), ('2017-06-29', 76.0), ('2017-06-30', 74.0), ('2017-06-01', 81.0), ('2017-06-02', 78.0), ('2017-06-03', 80.0), ('2017-06-04', 79.0), ('2017-06-05', 81.0), ('2017-06-06', 80.0), ('2017-06-07', 81.0), ('2017-06-08', 79.0), ('2017-06-09', 81.0), ('2017-06-10', 78.0), ('2017-06-11', 79.0), ('2017-06-12', 79.0), ('2017-06-13', 75.0), ('2017-06-14', 79.0), ('2017-06-15', 78.0), ('2017-06-16', 80.0), ('2017-06-17', 78.0), ('2017-06-18', 77.0), ('2017-06-19', 78.0), ('2017-06-20', 79.0), ('2017-06-23', 76.0), ('2017-06-26', 80.0), ('2017-06-29', 76.0), ('2017-06-30', 81.0), ('2017-06-02', 79.0), ('2017-06-05', 78.0), ('2017-06-06', 80.0), ('2017-06-07', 80.0), ('2017-06-08', 78.0), ('2017-06-09', 80.0), ('2017-06-13', 81.0), ('2017-06-14', 78.0), ('2017-06-15', 77.0), ('2017-06-16', 78.0), ('2017-06-19', 78.0), ('2017-06-20', 77.0), ('2017-06-21', 76.0), ('2017-06-22', 81.0), ('2017-06-23', 76.0), ('2017-06-26', 82.0), ('2017-06-27', 80.0), ('2017-06-28', 80.0), ('2017-06-29', 79.0), ('2017-06-30', 74.0), ('2017-06-01', 79.0), ('2017-06-02', 81.0), ('2017-06-03', 79.0), ('2017-06-04', 81.0), ('2017-06-05', 78.0), ('2017-06-06', 78.0), ('2017-06-07', 78.0), ('2017-06-08', 77.0), ('2017-06-09', 78.0), ('2017-06-10', 75.0), ('2017-06-11', 81.0), ('2017-06-12', 80.0), ('2017-06-13', 77.0), ('2017-06-14', 80.0), ('2017-06-15', 78.0), ('2017-06-16', 80.0), ('2017-06-17', 77.0), ('2017-06-18', 78.0), ('2017-06-19', 78.0), ('2017-06-21', 80.0), ('2017-06-22', 80.0), ('2017-06-23', 79.0), ('2017-06-24', 82.0), ('2017-06-25', 80.0), ('2017-06-26', 81.0), ('2017-06-27', 81.0), ('2017-06-28', 79.0), ('2017-06-29', 78.0), ('2017-06-30', 75.0), ('2017-06-01', 80.0), ('2017-06-02', 76.0), ('2017-06-03', 76.0), ('2017-06-04', 77.0), ('2017-06-05', 75.0), ('2017-06-06', 75.0), ('2017-06-07', 75.0), ('2017-06-08', 75.0), ('2017-06-09', 72.0), ('2017-06-10', 74.0), ('2017-06-11', 74.0), ('2017-06-12', 74.0), ('2017-06-13', 76.0), ('2017-06-14', 74.0), ('2017-06-15', 75.0), ('2017-06-16', 73.0), ('2017-06-17', 79.0), ('2017-06-18', 75.0), ('2017-06-19', 72.0), ('2017-06-20', 72.0), ('2017-06-21', 74.0), ('2017-06-22', 72.0), ('2017-06-23', 72.0), ('2017-06-24', 77.0), ('2017-06-25', 71.0), ('2017-06-26', 73.0), ('2017-06-27', 76.0), ('2017-06-28', 77.0), ('2017-06-29', 76.0), ('2017-06-30', 76.0), ('2017-06-01', 74.0), ('2017-06-03', 74.0), ('2017-06-04', 77.0), ('2017-06-05', 74.0), ('2017-06-06', 74.0), ('2017-06-07', 79.0), ('2017-06-08', 75.0), ('2017-06-10', 72.0), ('2017-06-11', 76.0), ('2017-06-12', 74.0), ('2017-06-13', 73.0), ('2017-06-14', 74.0), ('2017-06-15', 77.0), ('2017-06-16', 74.0), ('2017-06-17', 72.0), ('2017-06-18', 77.0), ('2017-06-19', 76.0), ('2017-06-20', 74.0), ('2017-06-21', 75.0), ('2017-06-22', 76.0), ('2017-06-23', 71.0), ('2017-06-24', 73.0), ('2017-06-25', 79.0), ('2017-06-26', 79.0), ('2017-06-27', 74.0), ('2017-06-28', 74.0), ('2017-06-29', 76.0), ('2017-06-30', 75.0)]\n"
     ]
    },
    {
     "data": {
      "text/plain": [
       "list"
      ]
     },
     "execution_count": 4,
     "metadata": {},
     "output_type": "execute_result"
    }
   ],
   "source": [
    "# 1. Import the sqlalchemy extract function.\n",
    "from sqlalchemy import extract\n",
    "\n",
    "# 2. Write a query that filters the Measurement table to retrieve the temperatures for the month of June.\n",
    "temp_june = session.query(Measurement.date, Measurement.tobs).filter(Measurement.date >= '2017-06,01').\\\n",
    "            filter(Measurement.date <= '2017-06-30').all()\n",
    "print(temp_june)\n",
    "type(temp_june)"
   ]
  },
  {
   "cell_type": "code",
   "execution_count": 5,
   "metadata": {},
   "outputs": [
    {
     "data": {
      "text/html": [
       "<div>\n",
       "<style scoped>\n",
       "    .dataframe tbody tr th:only-of-type {\n",
       "        vertical-align: middle;\n",
       "    }\n",
       "\n",
       "    .dataframe tbody tr th {\n",
       "        vertical-align: top;\n",
       "    }\n",
       "\n",
       "    .dataframe thead th {\n",
       "        text-align: right;\n",
       "    }\n",
       "</style>\n",
       "<table border=\"1\" class=\"dataframe\">\n",
       "  <thead>\n",
       "    <tr style=\"text-align: right;\">\n",
       "      <th></th>\n",
       "      <th>Date</th>\n",
       "      <th>Temp</th>\n",
       "    </tr>\n",
       "  </thead>\n",
       "  <tbody>\n",
       "    <tr>\n",
       "      <th>0</th>\n",
       "      <td>2017-06-01</td>\n",
       "      <td>79.0</td>\n",
       "    </tr>\n",
       "    <tr>\n",
       "      <th>1</th>\n",
       "      <td>2017-06-02</td>\n",
       "      <td>79.0</td>\n",
       "    </tr>\n",
       "    <tr>\n",
       "      <th>2</th>\n",
       "      <td>2017-06-03</td>\n",
       "      <td>79.0</td>\n",
       "    </tr>\n",
       "    <tr>\n",
       "      <th>3</th>\n",
       "      <td>2017-06-04</td>\n",
       "      <td>79.0</td>\n",
       "    </tr>\n",
       "    <tr>\n",
       "      <th>4</th>\n",
       "      <td>2017-06-05</td>\n",
       "      <td>80.0</td>\n",
       "    </tr>\n",
       "    <tr>\n",
       "      <th>...</th>\n",
       "      <td>...</td>\n",
       "      <td>...</td>\n",
       "    </tr>\n",
       "    <tr>\n",
       "      <th>186</th>\n",
       "      <td>2017-06-26</td>\n",
       "      <td>79.0</td>\n",
       "    </tr>\n",
       "    <tr>\n",
       "      <th>187</th>\n",
       "      <td>2017-06-27</td>\n",
       "      <td>74.0</td>\n",
       "    </tr>\n",
       "    <tr>\n",
       "      <th>188</th>\n",
       "      <td>2017-06-28</td>\n",
       "      <td>74.0</td>\n",
       "    </tr>\n",
       "    <tr>\n",
       "      <th>189</th>\n",
       "      <td>2017-06-29</td>\n",
       "      <td>76.0</td>\n",
       "    </tr>\n",
       "    <tr>\n",
       "      <th>190</th>\n",
       "      <td>2017-06-30</td>\n",
       "      <td>75.0</td>\n",
       "    </tr>\n",
       "  </tbody>\n",
       "</table>\n",
       "<p>191 rows × 2 columns</p>\n",
       "</div>"
      ],
      "text/plain": [
       "           Date  Temp\n",
       "0    2017-06-01  79.0\n",
       "1    2017-06-02  79.0\n",
       "2    2017-06-03  79.0\n",
       "3    2017-06-04  79.0\n",
       "4    2017-06-05  80.0\n",
       "..          ...   ...\n",
       "186  2017-06-26  79.0\n",
       "187  2017-06-27  74.0\n",
       "188  2017-06-28  74.0\n",
       "189  2017-06-29  76.0\n",
       "190  2017-06-30  75.0\n",
       "\n",
       "[191 rows x 2 columns]"
      ]
     },
     "execution_count": 5,
     "metadata": {},
     "output_type": "execute_result"
    }
   ],
   "source": [
    "#  3. Convert the June temperatures to a list.\n",
    "temp_june = pd.DataFrame(temp_june, columns=[\"Date\", \"Temp\"])\n",
    "\n",
    "temp_june"
   ]
  },
  {
   "cell_type": "code",
   "execution_count": null,
   "metadata": {},
   "outputs": [],
   "source": [
    "# 4. Create a DataFrame from the list of temperatures for the month of June. \n",
    "temp_june.describe()\n"
   ]
  },
  {
   "cell_type": "code",
   "execution_count": null,
   "metadata": {},
   "outputs": [],
   "source": [
    "# 5. Calculate and print out the summary statistics for the June temperature DataFrame.\n"
   ]
  },
  {
   "cell_type": "markdown",
   "metadata": {},
   "source": [
    "## D2: Determine the Summary Statistics for December"
   ]
  },
  {
   "cell_type": "code",
   "execution_count": null,
   "metadata": {},
   "outputs": [],
   "source": [
    "# 6. Write a query that filters the Measurement table to retrieve the temperatures for the month of December.\n"
   ]
  },
  {
   "cell_type": "code",
   "execution_count": null,
   "metadata": {},
   "outputs": [],
   "source": [
    "# 7. Convert the December temperatures to a list.\n"
   ]
  },
  {
   "cell_type": "code",
   "execution_count": null,
   "metadata": {},
   "outputs": [],
   "source": [
    "# 8. Create a DataFrame from the list of temperatures for the month of December. \n"
   ]
  },
  {
   "cell_type": "code",
   "execution_count": null,
   "metadata": {},
   "outputs": [],
   "source": [
    "# 9. Calculate and print out the summary statistics for the Decemeber temperature DataFrame.\n"
   ]
  }
 ],
 "metadata": {
  "kernelspec": {
   "display_name": "PythonData",
   "language": "python",
   "name": "pythondata"
  },
  "language_info": {
   "codemirror_mode": {
    "name": "ipython",
    "version": 3
   },
   "file_extension": ".py",
   "mimetype": "text/x-python",
   "name": "python",
   "nbconvert_exporter": "python",
   "pygments_lexer": "ipython3",
   "version": "3.8.3"
  }
 },
 "nbformat": 4,
 "nbformat_minor": 2
}
